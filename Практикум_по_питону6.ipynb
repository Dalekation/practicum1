{
  "nbformat": 4,
  "nbformat_minor": 0,
  "metadata": {
    "colab": {
      "provenance": []
    },
    "kernelspec": {
      "name": "python3",
      "display_name": "Python 3"
    },
    "language_info": {
      "name": "python"
    }
  },
  "cells": [
    {
      "cell_type": "code",
      "execution_count": null,
      "metadata": {
        "id": "_caQ0hM46C8V"
      },
      "outputs": [],
      "source": [
        "import numpy as np\n",
        "import pandas as pd\n",
        "import scipy.stats as st\n",
        "import matplotlib.pyplot as plt\n",
        "import seaborn as sns\n",
        "from tqdm import tqdm"
      ]
    },
    {
      "cell_type": "code",
      "source": [],
      "metadata": {
        "id": "WB_klLFE6GiL"
      },
      "execution_count": null,
      "outputs": []
    },
    {
      "cell_type": "markdown",
      "source": [
        "# Задача 1"
      ],
      "metadata": {
        "id": "PxvE2ZmJ6iOg"
      }
    },
    {
      "cell_type": "code",
      "source": [
        "def BWS_stat(x, y):\n",
        "    n = len(x)\n",
        "    m = len(y)\n",
        "\n",
        "    x = [[x_, 1] for x_ in x]\n",
        "    y = [[y_, 2] for y_ in y]\n",
        "\n",
        "    K = sorted(x+y, key=lambda x: x[0], reverse=False)\n",
        "    S = []\n",
        "    R = []\n",
        "\n",
        "    for i, el in enumerate(K):\n",
        "        if el[1] == 1:\n",
        "            S.append(i+1)\n",
        "        else:\n",
        "            R.append(i+1)\n",
        "\n",
        "    BX = np.mean((np.array(S) - np.array([(n+m) / n * i for i in range(1, n+1)]))**2 / \\\n",
        "      (np.array([i / (n+1) for i in range(1, n+1)])) / \\\n",
        "      (np.array([1 - (i / (n+1)) for i in range(1, n+1)])) / \\\n",
        "      (m * (n+m) / n))\n",
        "\n",
        "    BY = np.mean((np.array(R) - np.array([(n+m) / n * i for i in range(1, m+1)]))**2 / \\\n",
        "      (np.array([i / (m+1) for i in range(1, m+1)])) / \\\n",
        "      (np.array([1 - (i / (m+1)) for i in range(1, m+1)])) / \\\n",
        "      (n * (n+m) / m))\n",
        "\n",
        "    return 0.5 * (BX + BY)\n",
        "\n",
        "def BWS(x, y, perms=100):\n",
        "    s = BWS_stat(x, y)\n",
        "    z = list(x) + list(y)\n",
        "\n",
        "    counter = 0\n",
        "    for i in range(perms):\n",
        "        z_ = np.random.permutation(z)\n",
        "        if BWS_stat(z_[:len(x)], z_[len(x):]) > s:\n",
        "            counter += 1\n",
        "    return counter / perms\n",
        "\n"
      ],
      "metadata": {
        "id": "1g1alOtn7D_Q"
      },
      "execution_count": null,
      "outputs": []
    },
    {
      "cell_type": "code",
      "source": [
        "size = 20\n",
        "reps = 1000\n",
        "\n",
        "cdf = lambda x, X: np.mean(X < x)\n",
        "chi2_pvalue = []\n",
        "ttest_pvalue = []\n",
        "mw_pvalue = []\n",
        "ks_pvalue = []\n",
        "bws_pvalue = []\n",
        "\n",
        "bins = int(size / 4)\n",
        "\n",
        "for i in tqdm(range(reps)):\n",
        "    X1 = st.norm.rvs(loc=1, scale=1, size=size)\n",
        "    X2 = st.norm.rvs(loc=2, scale=2, size=size)\n",
        "\n",
        "    borders = [-np.Inf] + [np.quantile(X1, i / (bins)) for i in range(1, bins)] + [np.Inf]\n",
        "\n",
        "    c1 = []\n",
        "    for i in range(len(borders)-1):\n",
        "        c1.append(np.sum((X1 > borders[i]) & (X1 < borders[i+1])))\n",
        "\n",
        "    c2 = []\n",
        "    for i in range(len(borders)-1):\n",
        "        c2.append(np.sum((X2 > borders[i]) & (X2 < borders[i+1])))\n",
        "\n",
        "    chi2_pvalue.append(st.chi2_contingency([c1, c2])[1])\n",
        "    ttest_pvalue.append(st.ttest_ind(X1, X2)[1])\n",
        "    mw_pvalue.append(st.mannwhitneyu(X1, X2)[1])\n",
        "    ks_pvalue.append(st.kstest(X1, X2)[1])\n",
        "    bws_pvalue.append(BWS(X1, X2))"
      ],
      "metadata": {
        "colab": {
          "base_uri": "https://localhost:8080/"
        },
        "id": "8HvoZbbD6j7X",
        "outputId": "64e81888-80ad-47ba-946f-cc907a922cdc"
      },
      "execution_count": null,
      "outputs": [
        {
          "output_type": "stream",
          "name": "stderr",
          "text": [
            "100%|██████████| 1000/1000 [00:18<00:00, 53.52it/s]\n"
          ]
        }
      ]
    },
    {
      "cell_type": "code",
      "source": [
        "plt.figure(figsize=(20, 10))\n",
        "x = np.arange(0, 1+1/10, 1/10)\n",
        "\n",
        "y1 = list(map(lambda x: cdf(x, chi2_pvalue), x))\n",
        "y2 = list(map(lambda x: cdf(x, ttest_pvalue), x))\n",
        "y3 = list(map(lambda x: cdf(x, mw_pvalue), x))\n",
        "y4 = list(map(lambda x: cdf(x, ks_pvalue), x))\n",
        "y5 = list(map(lambda x: cdf(x, bws_pvalue), x))\n",
        "\n",
        "plt.plot(x, y1, x, y2, x, y3, x, y4, x, y5)\n",
        "plt.title(f'size={size}')\n",
        "plt.legend(['chi2', 'ttest', 'mw', 'ks', 'bws'])\n",
        "plt.show()"
      ],
      "metadata": {
        "colab": {
          "base_uri": "https://localhost:8080/",
          "height": 513
        },
        "id": "OscQor8xFA8r",
        "outputId": "d8e86ea3-1cef-401a-ac9f-99d42b203383"
      },
      "execution_count": null,
      "outputs": [
        {
          "output_type": "display_data",
          "data": {
            "text/plain": [
              "<Figure size 1440x720 with 1 Axes>"
            ],
            "image/png": "[encoded data removed]"
          },
          "metadata": {
            "needs_background": "light"
          }
        }
      ]
    },
    {
      "cell_type": "code",
      "source": [
        "size = 100\n",
        "reps = 1000\n",
        "\n",
        "cdf = lambda x, X: np.mean(X < x)\n",
        "chi2_pvalue = []\n",
        "ttest_pvalue = []\n",
        "mw_pvalue = []\n",
        "ks_pvalue = []\n",
        "bws_pvalue = []\n",
        "\n",
        "bins = int(size / 4)\n",
        "\n",
        "for i in tqdm(range(reps)):\n",
        "    X1 = st.norm.rvs(loc=1, scale=1, size=size)\n",
        "    X2 = st.norm.rvs(loc=2, scale=2, size=size)\n",
        "\n",
        "    borders = [-np.Inf] + [np.quantile(X1, i / (bins)) for i in range(1, bins)] + [np.Inf]\n",
        "\n",
        "    c1 = []\n",
        "    for i in range(len(borders)-1):\n",
        "        c1.append(np.sum((X1 > borders[i]) & (X1 < borders[i+1])))\n",
        "\n",
        "    c2 = []\n",
        "    for i in range(len(borders)-1):\n",
        "        c2.append(np.sum((X2 > borders[i]) & (X2 < borders[i+1])))\n",
        "\n",
        "    chi2_pvalue.append(st.chi2_contingency([c1, c2])[1])\n",
        "    ttest_pvalue.append(st.ttest_ind(X1, X2)[1])\n",
        "    mw_pvalue.append(st.mannwhitneyu(X1, X2)[1])\n",
        "    ks_pvalue.append(st.kstest(X1, X2)[1])\n",
        "    bws_pvalue.append(BWS(X1, X2))"
      ],
      "metadata": {
        "colab": {
          "base_uri": "https://localhost:8080/"
        },
        "id": "rJfmMyy9FMX0",
        "outputId": "30dfe735-da12-4003-efec-7ea238652a3b"
      },
      "execution_count": null,
      "outputs": [
        {
          "output_type": "stream",
          "name": "stderr",
          "text": [
            "100%|██████████| 1000/1000 [00:59<00:00, 16.76it/s]\n"
          ]
        }
      ]
    },
    {
      "cell_type": "code",
      "source": [
        "plt.figure(figsize=(20, 10))\n",
        "x = np.arange(0, 1+1/100, 1/100)\n",
        "\n",
        "y1 = list(map(lambda x: cdf(x, chi2_pvalue), x))\n",
        "y2 = list(map(lambda x: cdf(x, ttest_pvalue), x))\n",
        "y3 = list(map(lambda x: cdf(x, mw_pvalue), x))\n",
        "y4 = list(map(lambda x: cdf(x, ks_pvalue), x))\n",
        "y5 = list(map(lambda x: cdf(x, bws_pvalue), x))\n",
        "\n",
        "plt.plot(x, y1, x, y2, x, y3, x, y4, x, y5)\n",
        "plt.title(f'size={size}')\n",
        "plt.legend(['chi2', 'ttest', 'mw', 'ks', 'bws'])\n",
        "plt.show()"
      ],
      "metadata": {
        "colab": {
          "base_uri": "https://localhost:8080/",
          "height": 513
        },
        "id": "-qLGUNd7GFTx",
        "outputId": "d2b956a4-1e8c-43ca-e064-53ae9bca1f18"
      },
      "execution_count": null,
      "outputs": [
        {
          "output_type": "display_data",
          "data": {
            "text/plain": [
              "<Figure size 1440x720 with 1 Axes>"
            ],
            "image/png": "[encoded data removed]"
          },
          "metadata": {
            "needs_background": "light"
          }
        }
      ]
    },
    {
      "cell_type": "code",
      "source": [
        "plt.figure(figsize=(20, 10))\n",
        "x = np.arange(0, 0.02+1/1000, 1/1000)\n",
        "\n",
        "y1 = list(map(lambda x: cdf(x, chi2_pvalue), x))\n",
        "y2 = list(map(lambda x: cdf(x, ttest_pvalue), x))\n",
        "y3 = list(map(lambda x: cdf(x, mw_pvalue), x))\n",
        "y4 = list(map(lambda x: cdf(x, ks_pvalue), x))\n",
        "y5 = list(map(lambda x: cdf(x, bws_pvalue), x))\n",
        "\n",
        "plt.plot(x, y1, x, y2, x, y3, x, y4, x, y5)\n",
        "plt.title(f'size={size}')\n",
        "plt.legend(['chi2', 'ttest', 'mw', 'ks', 'bws'])\n",
        "plt.show()"
      ],
      "metadata": {
        "colab": {
          "base_uri": "https://localhost:8080/",
          "height": 513
        },
        "id": "YE6OUIXSGF0O",
        "outputId": "d458dac5-34d4-4477-c37f-bf348938e494"
      },
      "execution_count": null,
      "outputs": [
        {
          "output_type": "display_data",
          "data": {
            "text/plain": [
              "<Figure size 1440x720 with 1 Axes>"
            ],
            "image/png": "[encoded data removed]"
          },
          "metadata": {
            "needs_background": "light"
          }
        }
      ]
    },
    {
      "cell_type": "markdown",
      "source": [
        "# Задание 2"
      ],
      "metadata": {
        "id": "LaH_cqnQGGpu"
      }
    },
    {
      "cell_type": "code",
      "source": [
        "df = pd.read_csv('/content/drive/MyDrive/Automobile_data.csv')"
      ],
      "metadata": {
        "id": "gIb9CVd7GH5Q"
      },
      "execution_count": null,
      "outputs": []
    },
    {
      "cell_type": "code",
      "source": [
        "df['fuel-type'].unique()"
      ],
      "metadata": {
        "colab": {
          "base_uri": "https://localhost:8080/"
        },
        "id": "9gBgwi0NGScr",
        "outputId": "58ca357c-ecc0-4a02-c97e-b7b84b1eeac5"
      },
      "execution_count": null,
      "outputs": [
        {
          "output_type": "execute_result",
          "data": {
            "text/plain": [
              "array(['gas', 'diesel'], dtype=object)"
            ]
          },
          "metadata": {},
          "execution_count": 69
        }
      ]
    },
    {
      "cell_type": "code",
      "source": [
        "x1 = df[df['fuel-type'] == 'gas']['highway-mpg']\n",
        "x2 = df[df['fuel-type'] == 'diesel']['highway-mpg']"
      ],
      "metadata": {
        "id": "L6XDmKa_IXQB"
      },
      "execution_count": null,
      "outputs": []
    },
    {
      "cell_type": "code",
      "source": [
        "st.kstest(x1, x2)"
      ],
      "metadata": {
        "colab": {
          "base_uri": "https://localhost:8080/"
        },
        "id": "QypzVnRQG_ZG",
        "outputId": "3f64c2c1-63fa-415f-8677-c121a0cc3c4f"
      },
      "execution_count": null,
      "outputs": [
        {
          "output_type": "execute_result",
          "data": {
            "text/plain": [
              "KstestResult(statistic=0.32403314917127074, pvalue=0.03522346788677111)"
            ]
          },
          "metadata": {},
          "execution_count": 100
        }
      ]
    },
    {
      "cell_type": "code",
      "source": [
        "st.mannwhitneyu(x1, x2)"
      ],
      "metadata": {
        "colab": {
          "base_uri": "https://localhost:8080/"
        },
        "id": "ayQ9cD22HHgY",
        "outputId": "b19fdad7-29f5-45b4-b285-580b70f90212"
      },
      "execution_count": null,
      "outputs": [
        {
          "output_type": "execute_result",
          "data": {
            "text/plain": [
              "MannwhitneyuResult(statistic=1244.5, pvalue=0.021808202840914625)"
            ]
          },
          "metadata": {},
          "execution_count": 101
        }
      ]
    },
    {
      "cell_type": "code",
      "source": [
        "BWS(x1, x2, perms=10000)"
      ],
      "metadata": {
        "colab": {
          "base_uri": "https://localhost:8080/"
        },
        "id": "JRV4q3D7Jb6b",
        "outputId": "ed09397c-9cad-42fe-ee4b-a81d48d2cfff"
      },
      "execution_count": null,
      "outputs": [
        {
          "output_type": "execute_result",
          "data": {
            "text/plain": [
              "0.0038"
            ]
          },
          "metadata": {},
          "execution_count": 102
        }
      ]
    },
    {
      "cell_type": "code",
      "source": [
        "df = df[df['price'] != '?']"
      ],
      "metadata": {
        "id": "2nNgXWqbJ2ex"
      },
      "execution_count": null,
      "outputs": []
    },
    {
      "cell_type": "code",
      "source": [
        "x1 = list(map(int, df[df['fuel-type'] == 'gas']['price'].to_numpy()))\n",
        "x2 = list(map(int, df[df['fuel-type'] == 'diesel']['price'].to_numpy()))"
      ],
      "metadata": {
        "id": "YDRbLaelHRQs"
      },
      "execution_count": null,
      "outputs": []
    },
    {
      "cell_type": "code",
      "source": [
        "st.kstest(x1, x2)"
      ],
      "metadata": {
        "colab": {
          "base_uri": "https://localhost:8080/"
        },
        "id": "0husglN8HfAE",
        "outputId": "307169cd-0e06-41d7-f38d-39992a3a64b3"
      },
      "execution_count": null,
      "outputs": [
        {
          "output_type": "execute_result",
          "data": {
            "text/plain": [
              "KstestResult(statistic=0.25662983425414365, pvalue=0.15692344684971438)"
            ]
          },
          "metadata": {},
          "execution_count": 95
        }
      ]
    },
    {
      "cell_type": "code",
      "source": [
        "st.mannwhitneyu(x1, x2)"
      ],
      "metadata": {
        "colab": {
          "base_uri": "https://localhost:8080/"
        },
        "id": "PDOhHTqjKg0t",
        "outputId": "0c889231-69a9-406a-8d49-65970f3cf83d"
      },
      "execution_count": null,
      "outputs": [
        {
          "output_type": "execute_result",
          "data": {
            "text/plain": [
              "MannwhitneyuResult(statistic=1305.0, pvalue=0.0409798974040777)"
            ]
          },
          "metadata": {},
          "execution_count": 96
        }
      ]
    },
    {
      "cell_type": "code",
      "source": [
        "BWS(x1, x2, perms=10000)"
      ],
      "metadata": {
        "colab": {
          "base_uri": "https://localhost:8080/"
        },
        "id": "_If1bcyMKqPq",
        "outputId": "99a8cb35-43d3-4ace-ca07-cee9c8c778bc"
      },
      "execution_count": null,
      "outputs": [
        {
          "output_type": "execute_result",
          "data": {
            "text/plain": [
              "0.0369"
            ]
          },
          "metadata": {},
          "execution_count": 98
        }
      ]
    },
    {
      "cell_type": "code",
      "source": [],
      "metadata": {
        "id": "1YoeSk1FKrTb"
      },
      "execution_count": null,
      "outputs": []
    },
    {
      "cell_type": "markdown",
      "source": [
        "# Задача 3"
      ],
      "metadata": {
        "id": "QhfFTXFrK4Zv"
      }
    },
    {
      "cell_type": "code",
      "source": [
        "df = pd.read_csv('/content/drive/MyDrive/cholestg.txt', sep='\\t')\n",
        "df"
      ],
      "metadata": {
        "colab": {
          "base_uri": "https://localhost:8080/",
          "height": 424
        },
        "id": "LsG2vVI0K5mb",
        "outputId": "401fd134-b1a5-4848-bfaa-6d797d5f6ae4"
      },
      "execution_count": null,
      "outputs": [
        {
          "output_type": "execute_result",
          "data": {
            "text/plain": [
              "     patient  group  day  cholest\n",
              "0          1      1  2.0    270.0\n",
              "1          2      1  2.0    236.0\n",
              "2          3      1  2.0    210.0\n",
              "3          4      1  2.0    142.0\n",
              "4          5      1  2.0    280.0\n",
              "..       ...    ...  ...      ...\n",
              "109       54      2  NaN    182.0\n",
              "110       55      2  NaN    218.0\n",
              "111       56      2  NaN    170.0\n",
              "112       57      2  NaN    200.0\n",
              "113       58      2  NaN    176.0\n",
              "\n",
              "[114 rows x 4 columns]"
            ],
            "text/html": [
              "\n",
              "  <div id=\"df-9a499c09-06b6-43bf-b5b3-844990699ad9\">\n",
              "    <div class=\"colab-df-container\">\n",
              "      <div>\n",
              "<style scoped>\n",
              "    .dataframe tbody tr th:only-of-type {\n",
              "        vertical-align: middle;\n",
              "    }\n",
              "\n",
              "    .dataframe tbody tr th {\n",
              "        vertical-align: top;\n",
              "    }\n",
              "\n",
              "    .dataframe thead th {\n",
              "        text-align: right;\n",
              "    }\n",
              "</style>\n",
              "<table border=\"1\" class=\"dataframe\">\n",
              "  <thead>\n",
              "    <tr style=\"text-align: right;\">\n",
              "      <th></th>\n",
              "      <th>patient</th>\n",
              "      <th>group</th>\n",
              "      <th>day</th>\n",
              "      <th>cholest</th>\n",
              "    </tr>\n",
              "  </thead>\n",
              "  <tbody>\n",
              "    <tr>\n",
              "      <th>0</th>\n",
              "      <td>1</td>\n",
              "      <td>1</td>\n",
              "      <td>2.0</td>\n",
              "      <td>270.0</td>\n",
              "    </tr>\n",
              "    <tr>\n",
              "      <th>1</th>\n",
              "      <td>2</td>\n",
              "      <td>1</td>\n",
              "      <td>2.0</td>\n",
              "      <td>236.0</td>\n",
              "    </tr>\n",
              "    <tr>\n",
              "      <th>2</th>\n",
              "      <td>3</td>\n",
              "      <td>1</td>\n",
              "      <td>2.0</td>\n",
              "      <td>210.0</td>\n",
              "    </tr>\n",
              "    <tr>\n",
              "      <th>3</th>\n",
              "      <td>4</td>\n",
              "      <td>1</td>\n",
              "      <td>2.0</td>\n",
              "      <td>142.0</td>\n",
              "    </tr>\n",
              "    <tr>\n",
              "      <th>4</th>\n",
              "      <td>5</td>\n",
              "      <td>1</td>\n",
              "      <td>2.0</td>\n",
              "      <td>280.0</td>\n",
              "    </tr>\n",
              "    <tr>\n",
              "      <th>...</th>\n",
              "      <td>...</td>\n",
              "      <td>...</td>\n",
              "      <td>...</td>\n",
              "      <td>...</td>\n",
              "    </tr>\n",
              "    <tr>\n",
              "      <th>109</th>\n",
              "      <td>54</td>\n",
              "      <td>2</td>\n",
              "      <td>NaN</td>\n",
              "      <td>182.0</td>\n",
              "    </tr>\n",
              "    <tr>\n",
              "      <th>110</th>\n",
              "      <td>55</td>\n",
              "      <td>2</td>\n",
              "      <td>NaN</td>\n",
              "      <td>218.0</td>\n",
              "    </tr>\n",
              "    <tr>\n",
              "      <th>111</th>\n",
              "      <td>56</td>\n",
              "      <td>2</td>\n",
              "      <td>NaN</td>\n",
              "      <td>170.0</td>\n",
              "    </tr>\n",
              "    <tr>\n",
              "      <th>112</th>\n",
              "      <td>57</td>\n",
              "      <td>2</td>\n",
              "      <td>NaN</td>\n",
              "      <td>200.0</td>\n",
              "    </tr>\n",
              "    <tr>\n",
              "      <th>113</th>\n",
              "      <td>58</td>\n",
              "      <td>2</td>\n",
              "      <td>NaN</td>\n",
              "      <td>176.0</td>\n",
              "    </tr>\n",
              "  </tbody>\n",
              "</table>\n",
              "<p>114 rows × 4 columns</p>\n",
              "</div>\n",
              "      <button class=\"colab-df-convert\" onclick=\"convertToInteractive('df-9a499c09-06b6-43bf-b5b3-844990699ad9')\"\n",
              "              title=\"Convert this dataframe to an interactive table.\"\n",
              "              style=\"display:none;\">\n",
              "        \n",
              "  <svg xmlns=\"http://www.w3.org/2000/svg\" height=\"24px\"viewBox=\"0 0 24 24\"\n",
              "       width=\"24px\">\n",
              "    <path d=\"M0 0h24v24H0V0z\" fill=\"none\"/>\n",
              "    <path d=\"M18.56 5.44l.94 2.06.94-2.06 2.06-.94-2.06-.94-.94-2.06-.94 2.06-2.06.94zm-11 1L8.5 8.5l.94-2.06 2.06-.94-2.06-.94L8.5 2.5l-.94 2.06-2.06.94zm10 10l.94 2.06.94-2.06 2.06-.94-2.06-.94-.94-2.06-.94 2.06-2.06.94z\"/><path d=\"M17.41 7.96l-1.37-1.37c-.4-.4-.92-.59-1.43-.59-.52 0-1.04.2-1.43.59L10.3 9.45l-7.72 7.72c-.78.78-.78 2.05 0 2.83L4 21.41c.39.39.9.59 1.41.59.51 0 1.02-.2 1.41-.59l7.78-7.78 2.81-2.81c.8-.78.8-2.07 0-2.86zM5.41 20L4 18.59l7.72-7.72 1.47 1.35L5.41 20z\"/>\n",
              "  </svg>\n",
              "      </button>\n",
              "      \n",
              "  <style>\n",
              "    .colab-df-container {\n",
              "      display:flex;\n",
              "      flex-wrap:wrap;\n",
              "      gap: 12px;\n",
              "    }\n",
              "\n",
              "    .colab-df-convert {\n",
              "      background-color: #E8F0FE;\n",
              "      border: none;\n",
              "      border-radius: 50%;\n",
              "      cursor: pointer;\n",
              "      display: none;\n",
              "      fill: #1967D2;\n",
              "      height: 32px;\n",
              "      padding: 0 0 0 0;\n",
              "      width: 32px;\n",
              "    }\n",
              "\n",
              "    .colab-df-convert:hover {\n",
              "      background-color: #E2EBFA;\n",
              "      box-shadow: 0px 1px 2px rgba(60, 64, 67, 0.3), 0px 1px 3px 1px rgba(60, 64, 67, 0.15);\n",
              "      fill: #174EA6;\n",
              "    }\n",
              "\n",
              "    [theme=dark] .colab-df-convert {\n",
              "      background-color: #3B4455;\n",
              "      fill: #D2E3FC;\n",
              "    }\n",
              "\n",
              "    [theme=dark] .colab-df-convert:hover {\n",
              "      background-color: #434B5C;\n",
              "      box-shadow: 0px 1px 3px 1px rgba(0, 0, 0, 0.15);\n",
              "      filter: drop-shadow(0px 1px 2px rgba(0, 0, 0, 0.3));\n",
              "      fill: #FFFFFF;\n",
              "    }\n",
              "  </style>\n",
              "\n",
              "      <script>\n",
              "        const buttonEl =\n",
              "          document.querySelector('#df-9a499c09-06b6-43bf-b5b3-844990699ad9 button.colab-df-convert');\n",
              "        buttonEl.style.display =\n",
              "          google.colab.kernel.accessAllowed ? 'block' : 'none';\n",
              "\n",
              "        async function convertToInteractive(key) {\n",
              "          const element = document.querySelector('#df-9a499c09-06b6-43bf-b5b3-844990699ad9');\n",
              "          const dataTable =\n",
              "            await google.colab.kernel.invokeFunction('convertToInteractive',\n",
              "                                                     [key], {});\n",
              "          if (!dataTable) return;\n",
              "\n",
              "          const docLinkHtml = 'Like what you see? Visit the ' +\n",
              "            '<a target=\"_blank\" href=https://colab.research.google.com/notebooks/data_table.ipynb>data table notebook</a>'\n",
              "            + ' to learn more about interactive tables.';\n",
              "          element.innerHTML = '';\n",
              "          dataTable['output_type'] = 'display_data';\n",
              "          await google.colab.output.renderOutput(dataTable, element);\n",
              "          const docLink = document.createElement('div');\n",
              "          docLink.innerHTML = docLinkHtml;\n",
              "          element.appendChild(docLink);\n",
              "        }\n",
              "      </script>\n",
              "    </div>\n",
              "  </div>\n",
              "  "
            ]
          },
          "metadata": {},
          "execution_count": 105
        }
      ]
    },
    {
      "cell_type": "code",
      "source": [
        "pat = df[(df['group'] == 1) & (df['day'] == 14) & ~pd.isnull(df['cholest'])]['patient']"
      ],
      "metadata": {
        "id": "hDnPDwRgLuuJ"
      },
      "execution_count": null,
      "outputs": []
    },
    {
      "cell_type": "code",
      "source": [
        "x1 = np.array(list(map(float, df[(df['group'] == 1) & (df['day'] == 2) & (df['patient'].isin(pat))]['cholest'])))\n",
        "x2 = np.array(list(map(float, df[(df['group'] == 1) & (df['day'] == 4) & (df['patient'].isin(pat))]['cholest'])))\n",
        "x3 = np.array(list(map(float, df[(df['group'] == 1) & (df['day'] == 14) & (df['patient'].isin(pat))]['cholest'])))"
      ],
      "metadata": {
        "id": "GK0khq4yL2R2"
      },
      "execution_count": null,
      "outputs": []
    },
    {
      "cell_type": "code",
      "source": [
        "st.binom.sf(np.sum((x2 - x1) > 0), p=0.5, n=len(x1)), st.binom.cdf(np.sum((x2 - x1) > 0), p=0.5, n=len(x1))"
      ],
      "metadata": {
        "colab": {
          "base_uri": "https://localhost:8080/"
        },
        "id": "T7UWmG8bMDAj",
        "outputId": "898e4a4e-ea0f-4e3e-bdfa-980eca63c93b"
      },
      "execution_count": null,
      "outputs": [
        {
          "output_type": "execute_result",
          "data": {
            "text/plain": [
              "(0.9164657592773438, 0.08353424072265625)"
            ]
          },
          "metadata": {},
          "execution_count": 144
        }
      ]
    },
    {
      "cell_type": "code",
      "source": [
        "st.binom.sf(np.sum((x3 - x2) > 0), p=0.5, n=len(x1)), st.binom.cdf(np.sum((x3 - x2) > 0), p=0.5, n=len(x1))"
      ],
      "metadata": {
        "colab": {
          "base_uri": "https://localhost:8080/"
        },
        "id": "2aPHmfjaOv5P",
        "outputId": "cfd36308-d8aa-4d54-91c5-2c13b86cbf0a"
      },
      "execution_count": null,
      "outputs": [
        {
          "output_type": "execute_result",
          "data": {
            "text/plain": [
              "(0.6761970520019531, 0.3238029479980469)"
            ]
          },
          "metadata": {},
          "execution_count": 145
        }
      ]
    },
    {
      "cell_type": "code",
      "source": [
        "st.binom.sf(np.sum((x3 - x1) > 0), p=0.5, n=len(x1)), st.binom.cdf(np.sum((x3 - x1) > 0), p=0.5, n=len(x1))"
      ],
      "metadata": {
        "colab": {
          "base_uri": "https://localhost:8080/"
        },
        "id": "STUeyWJnO7jm",
        "outputId": "06f5a207-158c-416d-b2b7-38df75ecf419"
      },
      "execution_count": null,
      "outputs": [
        {
          "output_type": "execute_result",
          "data": {
            "text/plain": [
              "(0.9903945922851562, 0.00960540771484375)"
            ]
          },
          "metadata": {},
          "execution_count": 147
        }
      ]
    },
    {
      "cell_type": "code",
      "source": [
        "0.05 / 3"
      ],
      "metadata": {
        "colab": {
          "base_uri": "https://localhost:8080/"
        },
        "id": "2OmyzFchd2op",
        "outputId": "d51cc973-959c-44c8-f79f-8fa31a0ee79e"
      },
      "execution_count": null,
      "outputs": [
        {
          "output_type": "execute_result",
          "data": {
            "text/plain": [
              "0.016666666666666666"
            ]
          },
          "metadata": {},
          "execution_count": 169
        }
      ]
    },
    {
      "cell_type": "code",
      "source": [
        "st.wilcoxon(x1, x2)"
      ],
      "metadata": {
        "colab": {
          "base_uri": "https://localhost:8080/"
        },
        "id": "8wLZ7amwO83_",
        "outputId": "daa1098b-5ef8-4d13-cda4-29776a29779a"
      },
      "execution_count": null,
      "outputs": [
        {
          "output_type": "execute_result",
          "data": {
            "text/plain": [
              "WilcoxonResult(statistic=25.0, pvalue=0.0033416748046875)"
            ]
          },
          "metadata": {},
          "execution_count": 141
        }
      ]
    },
    {
      "cell_type": "code",
      "source": [
        "st.wilcoxon(x3, x2)"
      ],
      "metadata": {
        "colab": {
          "base_uri": "https://localhost:8080/"
        },
        "id": "HuAviQJnP7nB",
        "outputId": "9ce62ab3-1fac-445f-8113-c6ea70c142de"
      },
      "execution_count": null,
      "outputs": [
        {
          "output_type": "stream",
          "name": "stderr",
          "text": [
            "/usr/local/lib/python3.8/dist-packages/scipy/stats/morestats.py:3141: UserWarning: Exact p-value calculation does not work if there are ties. Switching to normal approximation.\n",
            "  warnings.warn(\"Exact p-value calculation does not work if there are \"\n"
          ]
        },
        {
          "output_type": "execute_result",
          "data": {
            "text/plain": [
              "WilcoxonResult(statistic=63.0, pvalue=0.3269717835731263)"
            ]
          },
          "metadata": {},
          "execution_count": 142
        }
      ]
    },
    {
      "cell_type": "code",
      "source": [
        "st.wilcoxon(x1, x3)"
      ],
      "metadata": {
        "colab": {
          "base_uri": "https://localhost:8080/"
        },
        "id": "Rpy_IGhoQF2u",
        "outputId": "e3e559be-a4b0-43f4-d3af-87bde394b401"
      },
      "execution_count": null,
      "outputs": [
        {
          "output_type": "execute_result",
          "data": {
            "text/plain": [
              "WilcoxonResult(statistic=34.0, pvalue=0.012359619140625)"
            ]
          },
          "metadata": {},
          "execution_count": 143
        }
      ]
    },
    {
      "cell_type": "code",
      "source": [
        "control = np.array(list(map(float, df[(df['group'] == 2)]['cholest'])))\n",
        "x1 = np.array(list(map(float, df[(df['group'] == 1) & (df['day'] == 2)]['cholest'])))\n",
        "x3 = np.array(list(map(float, df[(df['group'] == 1) & (df['day'] == 14) & (df['patient'].isin(pat))]['cholest'])))"
      ],
      "metadata": {
        "id": "r1Nd5eoiQGuy"
      },
      "execution_count": null,
      "outputs": []
    },
    {
      "cell_type": "code",
      "source": [
        "BWS(control, x1, perms=10000)"
      ],
      "metadata": {
        "colab": {
          "base_uri": "https://localhost:8080/"
        },
        "id": "EedtDZwlQ49E",
        "outputId": "a8c18ff6-83d2-437c-bed0-86f7314eee1f"
      },
      "execution_count": null,
      "outputs": [
        {
          "output_type": "execute_result",
          "data": {
            "text/plain": [
              "0.0"
            ]
          },
          "metadata": {},
          "execution_count": 158
        }
      ]
    },
    {
      "cell_type": "code",
      "source": [
        "st.ttest_ind(control, x1)"
      ],
      "metadata": {
        "colab": {
          "base_uri": "https://localhost:8080/"
        },
        "id": "gNbVYWSxRgkJ",
        "outputId": "faa481a4-aa01-400c-df63-117bc25bea9e"
      },
      "execution_count": null,
      "outputs": [
        {
          "output_type": "execute_result",
          "data": {
            "text/plain": [
              "Ttest_indResult(statistic=-6.285238671617634, pvalue=5.202077326006317e-08)"
            ]
          },
          "metadata": {},
          "execution_count": 161
        }
      ]
    },
    {
      "cell_type": "code",
      "source": [
        "BWS(control, x3, perms=10000)"
      ],
      "metadata": {
        "colab": {
          "base_uri": "https://localhost:8080/"
        },
        "id": "DHsI6_J1Riqh",
        "outputId": "842fde15-81e6-49b5-8e6f-7fdb7a23e2dc"
      },
      "execution_count": null,
      "outputs": [
        {
          "output_type": "execute_result",
          "data": {
            "text/plain": [
              "0.0023"
            ]
          },
          "metadata": {},
          "execution_count": 163
        }
      ]
    },
    {
      "cell_type": "code",
      "source": [
        "st.ttest_ind(control, x3)"
      ],
      "metadata": {
        "colab": {
          "base_uri": "https://localhost:8080/"
        },
        "id": "h-EImaSGRi-s",
        "outputId": "42ed5a8a-ec3c-4fca-891d-8d20c8967e36"
      },
      "execution_count": null,
      "outputs": [
        {
          "output_type": "execute_result",
          "data": {
            "text/plain": [
              "Ttest_indResult(statistic=-3.0250063711975748, pvalue=0.004022295544877714)"
            ]
          },
          "metadata": {},
          "execution_count": 164
        }
      ]
    },
    {
      "cell_type": "code",
      "source": [
        "control"
      ],
      "metadata": {
        "colab": {
          "base_uri": "https://localhost:8080/"
        },
        "id": "4IbNlsx6Tpnk",
        "outputId": "a114c025-15c3-4afd-8bc2-6b984ebfbf59"
      },
      "execution_count": null,
      "outputs": [
        {
          "output_type": "execute_result",
          "data": {
            "text/plain": [
              "array([196., 232., 200., 242., 206., 178., 184., 198., 160., 182., 182.,\n",
              "       198., 182., 238., 198., 188., 166., 204., 182., 178., 212., 164.,\n",
              "       230., 186., 162., 182., 218., 170., 200., 176.])"
            ]
          },
          "metadata": {},
          "execution_count": 170
        }
      ]
    },
    {
      "cell_type": "code",
      "source": [
        "x1"
      ],
      "metadata": {
        "colab": {
          "base_uri": "https://localhost:8080/"
        },
        "id": "xmS9DFZ5e9kk",
        "outputId": "d966c87e-20db-4762-f5c2-1fd762f187e8"
      },
      "execution_count": null,
      "outputs": [
        {
          "output_type": "execute_result",
          "data": {
            "text/plain": [
              "array([270., 236., 210., 142., 280., 272., 160., 220., 226., 242., 186.,\n",
              "       266., 206., 318., 294., 282., 234., 224., 276., 282., 360., 310.,\n",
              "       280., 278., 288., 288., 244., 236.])"
            ]
          },
          "metadata": {},
          "execution_count": 171
        }
      ]
    },
    {
      "cell_type": "code",
      "source": [],
      "metadata": {
        "id": "0Wl23KDxe-kH"
      },
      "execution_count": null,
      "outputs": []
    }
  ]
}