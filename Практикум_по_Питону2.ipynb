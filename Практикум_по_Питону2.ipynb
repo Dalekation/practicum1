{
  "nbformat": 4,
  "nbformat_minor": 0,
  "metadata": {
    "colab": {
      "provenance": []
    },
    "kernelspec": {
      "name": "python3",
      "display_name": "Python 3"
    },
    "language_info": {
      "name": "python"
    }
  },
  "cells": [
    {
      "cell_type": "code",
      "execution_count": null,
      "metadata": {
        "id": "SjCVAQKgwuaI"
      },
      "outputs": [],
      "source": [
        "import numpy as np\n",
        "import pandas as pd\n",
        "import matplotlib.pyplot as plt\n",
        "import scipy.stats as st\n",
        "import scipy.optimize as opt\n",
        "from tqdm import tqdm"
      ]
    },
    {
      "cell_type": "markdown",
      "source": [
        "1.1. Выборка ($X_1, \\dots, X_n$) имеет распределение Коши со сдвигом $\\theta$. Численно найти ОМП и сравнить ее на нескольких выборках с медианой MED с точки зрения среднего разброса."
      ],
      "metadata": {
        "id": "BVDuaX4vxDqP"
      }
    },
    {
      "cell_type": "code",
      "source": [
        "theta = 1\n",
        "steps_amt = 10000\n",
        "sample_size = 100000\n",
        "\n",
        "res_med = []\n",
        "res_mle = []\n",
        "\n",
        "for i in tqdm(range(steps_amt)):\n",
        "    x = st.cauchy.rvs(loc=theta, size=sample_size)\n",
        "\n",
        "    res_med.append(np.median(x))\n",
        "\n",
        "    res_mle.append(\n",
        "        opt.minimize(\n",
        "            fun=lambda t: -np.sum(np.log(st.cauchy.pdf(loc=t, x=x))),\n",
        "            x0=np.mean(x),\n",
        "            method='SLSQP',\n",
        "            options={'maxiter':1000}\n",
        "        ).x[0]\n",
        "    )\n",
        "\n",
        "print('\\n',\n",
        "      f'MLE - theta in [{np.mean(np.array(res_mle) - theta) - np.var(np.array(res_mle) - theta)}, {np.mean(np.array(res_mle) - theta) + np.var(np.array(res_mle) - theta)}]\\n',\n",
        "      f'MED - theta in [{np.mean(np.array(res_med) - theta) - np.var(np.array(res_med) - theta)}, {np.mean(np.array(res_med) - theta) + np.var(np.array(res_med) - theta)}]\\n'\n",
        ")\n",
        "\n",
        "plt.hist(np.array(res_mle)[np.abs(np.array(res_mle)) <= np.quantile(np.array(res_mle), 0.95)], alpha=0.8)\n",
        "plt.hist(np.array(res_med)[np.abs(np.array(res_med)) <= np.quantile(np.array(res_med), 0.95)], alpha=0.5)\n",
        "plt.show()"
      ],
      "metadata": {
        "colab": {
          "base_uri": "https://localhost:8080/",
          "height": 357
        },
        "id": "U5oJ0CsJw7-B",
        "outputId": "0a2027d2-7728-4f40-e88e-09d966e439ad"
      },
      "execution_count": null,
      "outputs": [
        {
          "output_type": "stream",
          "name": "stderr",
          "text": [
            "100%|██████████| 10000/10000 [25:59<00:00,  6.41it/s]\n"
          ]
        },
        {
          "output_type": "stream",
          "name": "stdout",
          "text": [
            "\n",
            " MLE - theta in [-5.467173015240713e-05, -1.538771939852265e-05]\n",
            " MED - theta in [-7.59807107954515e-05, -2.855068075438083e-05]\n",
            "\n"
          ]
        },
        {
          "output_type": "display_data",
          "data": {
            "text/plain": [
              "<Figure size 432x288 with 1 Axes>"
            ],
            "image/png": "[encoded data removed]"
          },
          "metadata": {
            "needs_background": "light"
          }
        }
      ]
    },
    {
      "cell_type": "code",
      "source": [
        "theta = 1\n",
        "steps_amt = 10000\n",
        "sample_size = 100000\n",
        "\n",
        "res_med = []\n",
        "res_mle = []\n",
        "\n",
        "for i in tqdm(range(steps_amt)):\n",
        "    x = st.cauchy.rvs(loc=theta, size=sample_size)\n",
        "\n",
        "    res_med.append(np.median(x))\n",
        "\n",
        "    res_mle.append(\n",
        "        opt.minimize(\n",
        "            fun=lambda t: -np.sum(np.log(st.cauchy.pdf(loc=t, x=x))),\n",
        "            x0=np.mean(x),\n",
        "            method='BFGS',\n",
        "            options={'maxiter':1000, 'gtol': 1e-09, 'eps': 1e-09}\n",
        "        ).x[0]\n",
        "    )\n",
        "\n",
        "print('\\n',\n",
        "      f'MLE - theta in [{np.mean(np.array(res_mle) - theta) - np.var(np.array(res_mle) - theta)}, {np.mean(np.array(res_mle) - theta) + np.var(np.array(res_mle) - theta)}]\\n',\n",
        "      f'MED - theta in [{np.mean(np.array(res_med) - theta) - np.var(np.array(res_med) - theta)}, {np.mean(np.array(res_med) - theta) + np.var(np.array(res_med) - theta)}]\\n'\n",
        ")\n",
        "\n",
        "plt.hist(np.array(res_mle)[np.abs(np.array(res_mle)) <= np.quantile(np.array(res_mle), 0.95)], alpha=0.5)\n",
        "plt.hist(np.array(res_med)[np.abs(np.array(res_med)) <= np.quantile(np.array(res_med), 0.95)])\n",
        "plt.show()"
      ],
      "metadata": {
        "colab": {
          "base_uri": "https://localhost:8080/",
          "height": 357
        },
        "id": "r_dUH-yxyzdJ",
        "outputId": "afd3bfcd-00f3-46ff-d4e4-5dcac685036b"
      },
      "execution_count": null,
      "outputs": [
        {
          "output_type": "stream",
          "name": "stderr",
          "text": [
            "100%|██████████| 1000/1000 [00:16<00:00, 61.15it/s]\n"
          ]
        },
        {
          "output_type": "stream",
          "name": "stdout",
          "text": [
            "\n",
            " MLE - theta in [-0.00036756385797973956, 1.7319430136726084e-05]\n",
            " MED - theta in [-0.0005178177253592402, -3.489540796592657e-05]\n",
            "\n"
          ]
        },
        {
          "output_type": "display_data",
          "data": {
            "text/plain": [
              "<Figure size 432x288 with 1 Axes>"
            ],
            "image/png": "[encoded data removed]"
          },
          "metadata": {
            "needs_background": "light"
          }
        }
      ]
    },
    {
      "cell_type": "code",
      "source": [
        "theta = 1\n",
        "steps_amt = 1000\n",
        "sample_size = 10000\n",
        "\n",
        "res_med = []\n",
        "res_mle = []\n",
        "\n",
        "for i in tqdm(range(steps_amt)):\n",
        "    x = st.cauchy.rvs(loc=theta, size=sample_size)\n",
        "\n",
        "    res_med.append(np.median(x))\n",
        "\n",
        "    res_mle.append(\n",
        "        opt.minimize(\n",
        "            fun=lambda t: -np.sum(np.log(st.cauchy.pdf(loc=t, x=x))),\n",
        "            x0=np.mean(x),\n",
        "            method='L-BFGS-B',\n",
        "            options={'maxiter':1000, 'gtol': 1e-09, 'eps': 1e-09}\n",
        "        ).x[0]\n",
        "    )\n",
        "\n",
        "print('\\n',\n",
        "      f'MLE - theta in [{np.mean(np.array(res_mle) - theta) - np.var(np.array(res_mle) - theta)}, {np.mean(np.array(res_mle) - theta) + np.var(np.array(res_mle) - theta)}]\\n',\n",
        "      f'MED - theta in [{np.mean(np.array(res_med) - theta) - np.var(np.array(res_med) - theta)}, {np.mean(np.array(res_med) - theta) + np.var(np.array(res_med) - theta)}]\\n'\n",
        ")\n",
        "\n",
        "plt.hist(np.array(res_mle)[np.abs(np.array(res_mle)) <= np.quantile(np.array(res_mle), 0.95)], alpha=0.5)\n",
        "plt.hist(np.array(res_med)[np.abs(np.array(res_med)) <= np.quantile(np.array(res_med), 0.95)])\n",
        "plt.show()"
      ],
      "metadata": {
        "colab": {
          "base_uri": "https://localhost:8080/",
          "height": 357
        },
        "id": "C5WFoGO2y5Dg",
        "outputId": "eed4969b-19e8-4c66-ece1-1c217042fef0"
      },
      "execution_count": null,
      "outputs": [
        {
          "output_type": "stream",
          "name": "stderr",
          "text": [
            "100%|██████████| 1000/1000 [00:12<00:00, 81.56it/s]\n"
          ]
        },
        {
          "output_type": "stream",
          "name": "stdout",
          "text": [
            "\n",
            " MLE - theta in [-0.0013829310395913502, -0.0009548066670012485]\n",
            " MED - theta in [-0.0011450916273948787, -0.0006277472023999109]\n",
            "\n"
          ]
        },
        {
          "output_type": "display_data",
          "data": {
            "text/plain": [
              "<Figure size 432x288 with 1 Axes>"
            ],
            "image/png": "[encoded data removed]"
          },
          "metadata": {
            "needs_background": "light"
          }
        }
      ]
    },
    {
      "cell_type": "code",
      "source": [],
      "metadata": {
        "id": "JYJbWiaCzxx0"
      },
      "execution_count": null,
      "outputs": []
    },
    {
      "cell_type": "markdown",
      "source": [
        "1.2. В партии пушек с некоторой вероятностью появляется пушка с браком. В файле Sample1.txt записаны точки падения снаряда при стрельбе одиночной качественной пушки по точке 0. В файле Sample2.txt - точки падения снаряда при стрельбе одиночной бракованной пушки. В файле Sample3.txt - итоги стрельбы батареи из большого числа различных пушек. Оценить вероятность брака."
      ],
      "metadata": {
        "id": "KE9DGatg5Zu8"
      }
    },
    {
      "cell_type": "code",
      "source": [
        "with open('/content/drive/MyDrive/Sample1.txt', 'r') as f:\n",
        "    res = f.readlines()\n",
        "    s1 = list(map(float, res[0].split(' ')))\n",
        "\n",
        "with open('/content/drive/MyDrive/Sample2.txt', 'r') as f:\n",
        "    res = f.readlines()\n",
        "    s2 = list(map(float, res[0].split(' ')))\n",
        "\n",
        "\n",
        "with open('/content/drive/MyDrive/Sample3.txt', 'r') as f:\n",
        "    res = f.readlines()\n",
        "    s3 = list(map(float, res[0].split(' ')))"
      ],
      "metadata": {
        "id": "X0qkykJn6_b1"
      },
      "execution_count": null,
      "outputs": []
    },
    {
      "cell_type": "code",
      "source": [
        "len(s1), len(s2), len(s3)"
      ],
      "metadata": {
        "colab": {
          "base_uri": "https://localhost:8080/"
        },
        "id": "aNuiPd2X8W2D",
        "outputId": "bb5185b2-d4b8-496f-d052-a67477a50cdb"
      },
      "execution_count": null,
      "outputs": [
        {
          "output_type": "execute_result",
          "data": {
            "text/plain": [
              "(4000, 6000, 3000)"
            ]
          },
          "metadata": {},
          "execution_count": 55
        }
      ]
    },
    {
      "cell_type": "code",
      "source": [],
      "metadata": {
        "id": "H5BTR_eHEMVV"
      },
      "execution_count": null,
      "outputs": []
    },
    {
      "cell_type": "markdown",
      "source": [
        "X - точка попадания небракованной пушки.\n",
        "\n",
        "Y - точка попадания бракованной пушки.\n",
        "\n",
        "B $\\sim Bernoulli(p)$, p -вероятность брака."
      ],
      "metadata": {
        "id": "Jz22wlCYENcE"
      }
    },
    {
      "cell_type": "code",
      "source": [
        "p = (np.mean(s3) - np.mean(s1)) / (np.mean(s2) - np.mean(s1))\n",
        "p"
      ],
      "metadata": {
        "colab": {
          "base_uri": "https://localhost:8080/"
        },
        "id": "QekGBwIL-PhL",
        "outputId": "ebc3797d-ef09-4e15-ab3a-80721a69db70"
      },
      "execution_count": null,
      "outputs": [
        {
          "output_type": "execute_result",
          "data": {
            "text/plain": [
              "0.6570744518589786"
            ]
          },
          "metadata": {},
          "execution_count": 58
        }
      ]
    },
    {
      "cell_type": "markdown",
      "source": [
        "1.3. Построить оценку методом спейсингов и ОМП для $X_i \\sim N(\\theta, 1)$ на 1000 выборок длины\n",
        "\n",
        "а) 20\n",
        "\n",
        "б) 50\n",
        "\n",
        "в) 100\n",
        "\n",
        "и сравнить среднюю квадратичскую погрешность."
      ],
      "metadata": {
        "id": "xA20HdnG6MN6"
      }
    },
    {
      "cell_type": "code",
      "source": [
        "def mle(x):\n",
        "    return opt.minimize(\n",
        "            fun=lambda t: -np.sum(np.log(st.cauchy.pdf(loc=t, x=x))),\n",
        "            x0=np.mean(x),\n",
        "            method='SLSQP',\n",
        "            options={'maxiter':1000}\n",
        "        ).x[0]\n",
        "\n",
        "def spacing(x):\n",
        "    X = [-np.Inf] + sorted(x) + [np.Inf]\n",
        "    n = len(x)\n",
        "\n",
        "    f = lambda t: -np.sum(np.log([st.norm.cdf(x=X[i], loc=t) - st.norm.cdf(x=X[i-1], loc=t) for i in range(1, n+2)]))\n",
        "\n",
        "    return opt.minimize(\n",
        "            fun=f,\n",
        "            x0=np.mean(x),\n",
        "            method='SLSQP',\n",
        "            options={'maxiter':1000}\n",
        "        ).x[0]"
      ],
      "metadata": {
        "id": "S01vHzJa6qUV"
      },
      "execution_count": null,
      "outputs": []
    },
    {
      "cell_type": "code",
      "source": [
        "theta = 1\n",
        "sample_amt = 1000\n",
        "size = 20\n",
        "\n",
        "res_mle = []\n",
        "res_space = []\n",
        "\n",
        "for i in tqdm(range(sample_amt)):\n",
        "    x = st.norm.rvs(loc=theta, size=size)\n",
        "\n",
        "    res_mle.append(mle(x))\n",
        "    res_space.append(spacing(x))\n",
        "\n",
        "print('\\n', np.var(np.array(res_mle) - theta), np.var(np.array(res_space) - theta))"
      ],
      "metadata": {
        "colab": {
          "base_uri": "https://localhost:8080/"
        },
        "id": "OYdaipYKAxQS",
        "outputId": "ec3d1f5c-3812-4398-c873-14b1edc7fa45"
      },
      "execution_count": null,
      "outputs": [
        {
          "output_type": "stream",
          "name": "stderr",
          "text": [
            "100%|██████████| 1000/1000 [00:33<00:00, 30.05it/s]"
          ]
        },
        {
          "output_type": "stream",
          "name": "stdout",
          "text": [
            "\n",
            " 0.0668441781409879 0.049704027645684316\n"
          ]
        },
        {
          "output_type": "stream",
          "name": "stderr",
          "text": [
            "\n"
          ]
        }
      ]
    },
    {
      "cell_type": "code",
      "source": [
        "theta = 1\n",
        "sample_amt = 1000\n",
        "size = 50\n",
        "\n",
        "res_mle = []\n",
        "res_space = []\n",
        "\n",
        "for i in tqdm(range(sample_amt)):\n",
        "    x = st.norm.rvs(loc=theta, size=size)\n",
        "\n",
        "    res_mle.append(mle(x))\n",
        "    res_space.append(spacing(x))\n",
        "\n",
        "print('\\n', np.var(np.array(res_mle) - theta), np.var(np.array(res_space) - theta))"
      ],
      "metadata": {
        "colab": {
          "base_uri": "https://localhost:8080/"
        },
        "id": "4Qu41z-uA1Rz",
        "outputId": "6e79d5fb-ca44-4334-e091-59797dc3ab7f"
      },
      "execution_count": null,
      "outputs": [
        {
          "output_type": "stream",
          "name": "stderr",
          "text": [
            "100%|██████████| 1000/1000 [00:57<00:00, 17.39it/s]"
          ]
        },
        {
          "output_type": "stream",
          "name": "stdout",
          "text": [
            "\n",
            " 0.027086483945048267 0.020419983736296814\n"
          ]
        },
        {
          "output_type": "stream",
          "name": "stderr",
          "text": [
            "\n"
          ]
        }
      ]
    },
    {
      "cell_type": "code",
      "source": [
        "theta = 1\n",
        "sample_amt = 1000\n",
        "size = 100\n",
        "\n",
        "res_mle = []\n",
        "res_space = []\n",
        "\n",
        "for i in tqdm(range(sample_amt)):\n",
        "    x = st.norm.rvs(loc=theta, size=size)\n",
        "\n",
        "    res_mle.append(mle(x))\n",
        "    res_space.append(spacing(x))\n",
        "\n",
        "print('\\n', np.var(np.array(res_mle) - theta), np.var(np.array(res_space) - theta))"
      ],
      "metadata": {
        "colab": {
          "base_uri": "https://localhost:8080/"
        },
        "id": "TBFFc990BEF7",
        "outputId": "e07a0fb9-f742-4eef-93f9-003f66de45ab"
      },
      "execution_count": null,
      "outputs": [
        {
          "output_type": "stream",
          "name": "stderr",
          "text": [
            "100%|██████████| 1000/1000 [01:51<00:00,  8.97it/s]"
          ]
        },
        {
          "output_type": "stream",
          "name": "stdout",
          "text": [
            "\n",
            " 0.013684966354553655 0.00987305437064329\n"
          ]
        },
        {
          "output_type": "stream",
          "name": "stderr",
          "text": [
            "\n"
          ]
        }
      ]
    },
    {
      "cell_type": "code",
      "source": [],
      "metadata": {
        "id": "XwhOIswjDUwc"
      },
      "execution_count": null,
      "outputs": []
    }
  ]
}