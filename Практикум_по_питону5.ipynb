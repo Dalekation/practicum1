{
  "nbformat": 4,
  "nbformat_minor": 0,
  "metadata": {
    "colab": {
      "provenance": []
    },
    "kernelspec": {
      "name": "python3",
      "display_name": "Python 3"
    },
    "language_info": {
      "name": "python"
    }
  },
  "cells": [
    {
      "cell_type": "code",
      "execution_count": null,
      "metadata": {
        "id": "cdqzr21tNJC6"
      },
      "outputs": [],
      "source": [
        "import numpy as np\n",
        "import pandas as pd\n",
        "import scipy.stats as st\n",
        "import matplotlib.pyplot as plt\n",
        "import seaborn as sns"
      ]
    },
    {
      "cell_type": "code",
      "source": [
        "p = np.log([1 + 1/i for i in range(1, 10)]) / np.log(10)"
      ],
      "metadata": {
        "id": "Of9r2CzTN26R"
      },
      "execution_count": null,
      "outputs": []
    },
    {
      "cell_type": "markdown",
      "source": [
        "# Население стран"
      ],
      "metadata": {
        "id": "nn-cZKJAUo8J"
      }
    },
    {
      "cell_type": "code",
      "source": [
        "popul"
      ],
      "metadata": {
        "colab": {
          "base_uri": "https://localhost:8080/"
        },
        "id": "EgIIt_8MRGTg",
        "outputId": "5ec5d32c-cd4d-4d76-f3f1-93fd016c6a12"
      },
      "execution_count": null,
      "outputs": [
        {
          "output_type": "execute_result",
          "data": {
            "text/plain": [
              "array([1425326000, 1409463000,  336023460,  265275395,  227910302,\n",
              "        218096540,  216826390,  179679233,  146570156,  128649565,\n",
              "        124830000,  113656596,  112307222,  107757240,   98208984,\n",
              "         97568312,   87696410,   86154997,   83349300,   69593975,\n",
              "         68959599,   67647112,   65890747,   61956900,   59236213,\n",
              "         57564296,   54045000,   51780579,   49258494,   48006700,\n",
              "         47253450,   46934632,   45653000,   44938712,   41310000,\n",
              "         40997699,   39225560,   39099330,   38313035,   37147170,\n",
              "         36026859,   35218169,   34825000,   34471785,   33699000,\n",
              "         32162184,   31418000,   31366000,   31162000,   28680342,\n",
              "         28609000,   27717000,   26603000,   26348251,   25666000,\n",
              "         25314743,   23782448,   22870060,   21803000,   20670565,\n",
              "         20658000,   19666840,   19401658,   19256346,   18861000,\n",
              "         18563749,   18036030,   17722345,   17679735,   17645000,\n",
              "         17070000,   15948000,   15443000,   15288489,   12771000,\n",
              "         11952693,   11658341,   11476279,   11469896,   11333000,\n",
              "         11215578,   11078685,   11062000,   10911819,   10741165,\n",
              "         10739000,   10693939,   10347892,   10315244,   10313447,\n",
              "         10119100,    9771000,    9769526,    9255524,    9158345,\n",
              "          9136000,    9127000,    8915382,    8776000,    8570146,\n",
              "          8082000,    7813000,    7524100,    7152703,    7123205,\n",
              "          6951482,    6926705,    6856000,    6777000,    6523500,\n",
              "          6454000,    6198154,    5942000,    5762082,    5703600,\n",
              "          5668700,    5526774,    5449176,    5381000,    5096620,\n",
              "          4953199,    4937000,    4921500,    4816503,    4745000,\n",
              "          4207000,    4088690,    4076246,    3764166,    3723500,\n",
              "          3631775,    3546500,    3511372,    3497000,    3473604,\n",
              "          3415866,    3411307,    2962100,    2845955,    2790472,\n",
              "          2753045,    2726667,    2495000,    2348000,    2304000,\n",
              "          2173000,    2127480,    2077132,    2007201,    1921000,\n",
              "          1908100,    1907592,    1451200,    1395000,    1356000,\n",
              "          1328360,    1261208,    1212107,    1148000,     974000,\n",
              "           890000,     875898,     844994,     806153,     801623,\n",
              "           763000,     670000,     667400,     622218,     613894,\n",
              "           582000,     581000,     550000,     493559,     467400,\n",
              "           433000,     403750,     402071,     389000,     387879,\n",
              "           381326,     356991,     313626,     300000,     296711,\n",
              "           287000,     281674,     268767,     266000,     243564,\n",
              "           215000,     197000,     183000,     167000,     158986,\n",
              "           147000,     118000,     114000,     112000,     111000,\n",
              "           106000,     105500,     105000,     100651,      98000,\n",
              "            97000,      83314,      76177,      72000,      63026,\n",
              "            61662,      60764,      56196,      56183,      55602,\n",
              "            55389,      53532,      53069,      48599,      38378,\n",
              "            38300,      37224,      36457,      34904,      34590,\n",
              "            34492,      33573,      25052,      21507,      17325,\n",
              "            16183,      15800,      11086,      10927,      10445,\n",
              "             8987,       6301,       3380,       2074,       1618,\n",
              "             1499,        825])"
            ]
          },
          "metadata": {},
          "execution_count": 23
        }
      ]
    },
    {
      "cell_type": "code",
      "source": [
        "popul2 = np.array(list(map(lambda x: int(str(x)[0]), popul)))"
      ],
      "metadata": {
        "id": "jpZDrM12RVck"
      },
      "execution_count": null,
      "outputs": []
    },
    {
      "cell_type": "code",
      "source": [
        "y = [0 for i in range(1, 10)]\n",
        "\n",
        "for el in popul2:\n",
        "    y[el-1] += 1"
      ],
      "metadata": {
        "id": "2PM65bXYRgS5"
      },
      "execution_count": null,
      "outputs": []
    },
    {
      "cell_type": "code",
      "source": [
        "y = np.array(y)\n",
        "y = y / np.sum(y)"
      ],
      "metadata": {
        "id": "IcV8b2edRhFw"
      },
      "execution_count": null,
      "outputs": []
    },
    {
      "cell_type": "code",
      "source": [
        "y"
      ],
      "metadata": {
        "colab": {
          "base_uri": "https://localhost:8080/"
        },
        "id": "bgnztxPlSNpo",
        "outputId": "18dbac0b-8e83-48d8-f36b-91eee85d47fe"
      },
      "execution_count": null,
      "outputs": [
        {
          "output_type": "execute_result",
          "data": {
            "text/plain": [
              "array([0.2892562 , 0.15702479, 0.15702479, 0.09090909, 0.08677686,\n",
              "       0.08264463, 0.02892562, 0.06198347, 0.04545455])"
            ]
          },
          "metadata": {},
          "execution_count": 31
        }
      ]
    },
    {
      "cell_type": "code",
      "source": [
        "print(f'pvalue for countries population: {st.chisquare(y, p)[1]}')"
      ],
      "metadata": {
        "colab": {
          "base_uri": "https://localhost:8080/"
        },
        "id": "Ul7KZeenSShe",
        "outputId": "68637b1d-6df2-4d51-be95-3a64a4cab1ac"
      },
      "execution_count": null,
      "outputs": [
        {
          "output_type": "stream",
          "name": "stdout",
          "text": [
            "pvalue for countries population: 0.9999999971636965\n"
          ]
        }
      ]
    },
    {
      "cell_type": "markdown",
      "source": [
        "# Числа Фиббоначи"
      ],
      "metadata": {
        "id": "LA2EuXJTUtAU"
      }
    },
    {
      "cell_type": "code",
      "source": [
        "fib = [1, 1]\n",
        "\n",
        "for i in range(1, 100):\n",
        "    fib.append(fib[i] + fib[i-1])\n",
        "\n",
        "fib = np.array(list(map(lambda x: int(str(x)[0]), fib)))"
      ],
      "metadata": {
        "id": "MhyCb8VvTLkY"
      },
      "execution_count": null,
      "outputs": []
    },
    {
      "cell_type": "code",
      "source": [
        "y = [0 for i in range(1, 10)]\n",
        "\n",
        "for el in fib:\n",
        "    y[el-1] += 1\n",
        "\n",
        "y = np.array(y)\n",
        "y = y / np.sum(y)"
      ],
      "metadata": {
        "id": "m4ssjLNPT5mq"
      },
      "execution_count": null,
      "outputs": []
    },
    {
      "cell_type": "code",
      "source": [
        "print(f'pvalue for fibbonaci numbers: {st.chisquare(y, p)[1]}')"
      ],
      "metadata": {
        "colab": {
          "base_uri": "https://localhost:8080/"
        },
        "id": "iePeRDn1Ud46",
        "outputId": "76547a2a-86e2-4cce-f14b-5d70680f81ce"
      },
      "execution_count": null,
      "outputs": [
        {
          "output_type": "stream",
          "name": "stdout",
          "text": [
            "pvalue for fibbonaci numbers: 0.9999999999557907\n"
          ]
        }
      ]
    },
    {
      "cell_type": "markdown",
      "source": [
        "# ВВП"
      ],
      "metadata": {
        "id": "stHwYxAtW4Gq"
      }
    },
    {
      "cell_type": "code",
      "source": [
        "gdp = list(map(lambda x: str(int(float(x.replace(',','.')) * 10**9))[0], list(filter(lambda x: x != '', list(map(lambda x: x.split('\\t')[1], gdp.split('\\n')))))))"
      ],
      "metadata": {
        "id": "dd0nWwIDU2F-"
      },
      "execution_count": null,
      "outputs": []
    },
    {
      "cell_type": "code",
      "source": [
        "y = [0 for i in range(1, 10)]\n",
        "\n",
        "for el in gdp:\n",
        "    y[int(el)-1] += 1\n",
        "\n",
        "y = np.array(y)\n",
        "y = y / np.sum(y)"
      ],
      "metadata": {
        "id": "WvEg7ZIGVrrq"
      },
      "execution_count": null,
      "outputs": []
    },
    {
      "cell_type": "code",
      "source": [
        "print(f'pvalue for GDP: {st.chisquare(y, p)[1]}')"
      ],
      "metadata": {
        "colab": {
          "base_uri": "https://localhost:8080/"
        },
        "id": "Otc59ld9W9WV",
        "outputId": "984d5fb1-4305-4364-e058-47756e685a0a"
      },
      "execution_count": null,
      "outputs": [
        {
          "output_type": "stream",
          "name": "stdout",
          "text": [
            "pvalue for GDP: 0.9999999705883034\n"
          ]
        }
      ]
    },
    {
      "cell_type": "code",
      "source": [],
      "metadata": {
        "id": "ae7MADLlXFrY"
      },
      "execution_count": null,
      "outputs": []
    },
    {
      "cell_type": "markdown",
      "source": [
        "# Задача 2"
      ],
      "metadata": {
        "id": "dAeoqwslZj1Z"
      }
    },
    {
      "cell_type": "code",
      "source": [
        "df = pd.read_csv('/content/drive/MyDrive/Rainfall.txt')"
      ],
      "metadata": {
        "id": "deEqewEoZvv3"
      },
      "execution_count": null,
      "outputs": []
    },
    {
      "cell_type": "code",
      "source": [
        "df.head()"
      ],
      "metadata": {
        "colab": {
          "base_uri": "https://localhost:8080/",
          "height": 206
        },
        "id": "aEoNV_2DZwOL",
        "outputId": "3f2b1374-df34-4919-af52-b3b21583f9e2"
      },
      "execution_count": null,
      "outputs": [
        {
          "output_type": "execute_result",
          "data": {
            "text/plain": [
              "   Rainfall\n",
              "0     146.8\n",
              "1     383.0\n",
              "2      90.9\n",
              "3     178.1\n",
              "4     267.5"
            ],
            "text/html": [
              "\n",
              "  <div id=\"df-72e7f932-73e0-4db8-a2f0-c1a762c7d6c3\">\n",
              "    <div class=\"colab-df-container\">\n",
              "      <div>\n",
              "<style scoped>\n",
              "    .dataframe tbody tr th:only-of-type {\n",
              "        vertical-align: middle;\n",
              "    }\n",
              "\n",
              "    .dataframe tbody tr th {\n",
              "        vertical-align: top;\n",
              "    }\n",
              "\n",
              "    .dataframe thead th {\n",
              "        text-align: right;\n",
              "    }\n",
              "</style>\n",
              "<table border=\"1\" class=\"dataframe\">\n",
              "  <thead>\n",
              "    <tr style=\"text-align: right;\">\n",
              "      <th></th>\n",
              "      <th>Rainfall</th>\n",
              "    </tr>\n",
              "  </thead>\n",
              "  <tbody>\n",
              "    <tr>\n",
              "      <th>0</th>\n",
              "      <td>146.8</td>\n",
              "    </tr>\n",
              "    <tr>\n",
              "      <th>1</th>\n",
              "      <td>383.0</td>\n",
              "    </tr>\n",
              "    <tr>\n",
              "      <th>2</th>\n",
              "      <td>90.9</td>\n",
              "    </tr>\n",
              "    <tr>\n",
              "      <th>3</th>\n",
              "      <td>178.1</td>\n",
              "    </tr>\n",
              "    <tr>\n",
              "      <th>4</th>\n",
              "      <td>267.5</td>\n",
              "    </tr>\n",
              "  </tbody>\n",
              "</table>\n",
              "</div>\n",
              "      <button class=\"colab-df-convert\" onclick=\"convertToInteractive('df-72e7f932-73e0-4db8-a2f0-c1a762c7d6c3')\"\n",
              "              title=\"Convert this dataframe to an interactive table.\"\n",
              "              style=\"display:none;\">\n",
              "        \n",
              "  <svg xmlns=\"http://www.w3.org/2000/svg\" height=\"24px\"viewBox=\"0 0 24 24\"\n",
              "       width=\"24px\">\n",
              "    <path d=\"M0 0h24v24H0V0z\" fill=\"none\"/>\n",
              "    <path d=\"M18.56 5.44l.94 2.06.94-2.06 2.06-.94-2.06-.94-.94-2.06-.94 2.06-2.06.94zm-11 1L8.5 8.5l.94-2.06 2.06-.94-2.06-.94L8.5 2.5l-.94 2.06-2.06.94zm10 10l.94 2.06.94-2.06 2.06-.94-2.06-.94-.94-2.06-.94 2.06-2.06.94z\"/><path d=\"M17.41 7.96l-1.37-1.37c-.4-.4-.92-.59-1.43-.59-.52 0-1.04.2-1.43.59L10.3 9.45l-7.72 7.72c-.78.78-.78 2.05 0 2.83L4 21.41c.39.39.9.59 1.41.59.51 0 1.02-.2 1.41-.59l7.78-7.78 2.81-2.81c.8-.78.8-2.07 0-2.86zM5.41 20L4 18.59l7.72-7.72 1.47 1.35L5.41 20z\"/>\n",
              "  </svg>\n",
              "      </button>\n",
              "      \n",
              "  <style>\n",
              "    .colab-df-container {\n",
              "      display:flex;\n",
              "      flex-wrap:wrap;\n",
              "      gap: 12px;\n",
              "    }\n",
              "\n",
              "    .colab-df-convert {\n",
              "      background-color: #E8F0FE;\n",
              "      border: none;\n",
              "      border-radius: 50%;\n",
              "      cursor: pointer;\n",
              "      display: none;\n",
              "      fill: #1967D2;\n",
              "      height: 32px;\n",
              "      padding: 0 0 0 0;\n",
              "      width: 32px;\n",
              "    }\n",
              "\n",
              "    .colab-df-convert:hover {\n",
              "      background-color: #E2EBFA;\n",
              "      box-shadow: 0px 1px 2px rgba(60, 64, 67, 0.3), 0px 1px 3px 1px rgba(60, 64, 67, 0.15);\n",
              "      fill: #174EA6;\n",
              "    }\n",
              "\n",
              "    [theme=dark] .colab-df-convert {\n",
              "      background-color: #3B4455;\n",
              "      fill: #D2E3FC;\n",
              "    }\n",
              "\n",
              "    [theme=dark] .colab-df-convert:hover {\n",
              "      background-color: #434B5C;\n",
              "      box-shadow: 0px 1px 3px 1px rgba(0, 0, 0, 0.15);\n",
              "      filter: drop-shadow(0px 1px 2px rgba(0, 0, 0, 0.3));\n",
              "      fill: #FFFFFF;\n",
              "    }\n",
              "  </style>\n",
              "\n",
              "      <script>\n",
              "        const buttonEl =\n",
              "          document.querySelector('#df-72e7f932-73e0-4db8-a2f0-c1a762c7d6c3 button.colab-df-convert');\n",
              "        buttonEl.style.display =\n",
              "          google.colab.kernel.accessAllowed ? 'block' : 'none';\n",
              "\n",
              "        async function convertToInteractive(key) {\n",
              "          const element = document.querySelector('#df-72e7f932-73e0-4db8-a2f0-c1a762c7d6c3');\n",
              "          const dataTable =\n",
              "            await google.colab.kernel.invokeFunction('convertToInteractive',\n",
              "                                                     [key], {});\n",
              "          if (!dataTable) return;\n",
              "\n",
              "          const docLinkHtml = 'Like what you see? Visit the ' +\n",
              "            '<a target=\"_blank\" href=https://colab.research.google.com/notebooks/data_table.ipynb>data table notebook</a>'\n",
              "            + ' to learn more about interactive tables.';\n",
              "          element.innerHTML = '';\n",
              "          dataTable['output_type'] = 'display_data';\n",
              "          await google.colab.output.renderOutput(dataTable, element);\n",
              "          const docLink = document.createElement('div');\n",
              "          docLink.innerHTML = docLinkHtml;\n",
              "          element.appendChild(docLink);\n",
              "        }\n",
              "      </script>\n",
              "    </div>\n",
              "  </div>\n",
              "  "
            ]
          },
          "metadata": {},
          "execution_count": 74
        }
      ]
    },
    {
      "cell_type": "code",
      "source": [
        "X = df['Rainfall'].to_numpy()"
      ],
      "metadata": {
        "id": "UmYdFgoHc595"
      },
      "execution_count": null,
      "outputs": []
    },
    {
      "cell_type": "code",
      "source": [
        "sns.kdeplot(X)"
      ],
      "metadata": {
        "colab": {
          "base_uri": "https://localhost:8080/",
          "height": 284
        },
        "id": "jj6CmEERaiCN",
        "outputId": "87247037-98e7-4c07-b8aa-f0542c7eceb8"
      },
      "execution_count": null,
      "outputs": [
        {
          "output_type": "execute_result",
          "data": {
            "text/plain": [
              "<matplotlib.axes._subplots.AxesSubplot at 0x7f96911dc890>"
            ]
          },
          "metadata": {},
          "execution_count": 85
        },
        {
          "output_type": "display_data",
          "data": {
            "text/plain": [
              "<Figure size 432x288 with 1 Axes>"
            ],
            "image/png": "[encoded data removed]"
          },
          "metadata": {
            "needs_background": "light"
          }
        }
      ]
    },
    {
      "cell_type": "code",
      "source": [
        "#Gini test\n",
        "\n",
        "n = len(X)\n",
        "G = np.array(sorted(X)).dot(np.array([2 * j - n - 1 for j in range(1, n+1)])) / (n * (n-1) * np.mean(X))\n",
        "\n",
        "nor = np.sqrt(12 * (n - 1)) * (G - 0.5)\n",
        "nor >= st.norm.ppf(0.05/2) and nor <= st.norm.isf(0.05/2)"
      ],
      "metadata": {
        "colab": {
          "base_uri": "https://localhost:8080/"
        },
        "id": "HJBbziUFc0em",
        "outputId": "0ad6030c-e8e3-4680-b4b0-bfe14653a7a0"
      },
      "execution_count": null,
      "outputs": [
        {
          "output_type": "execute_result",
          "data": {
            "text/plain": [
              "False"
            ]
          },
          "metadata": {},
          "execution_count": 94
        }
      ]
    },
    {
      "cell_type": "markdown",
      "source": [
        "Не принадлежит экпоненциальному семейству"
      ],
      "metadata": {
        "id": "nz6xVHGaac2l"
      }
    },
    {
      "cell_type": "code",
      "source": [
        "X = np.log(X)"
      ],
      "metadata": {
        "id": "0HjFOw9qbWh9"
      },
      "execution_count": null,
      "outputs": []
    },
    {
      "cell_type": "code",
      "source": [
        "sns.kdeplot(X)"
      ],
      "metadata": {
        "colab": {
          "base_uri": "https://localhost:8080/",
          "height": 284
        },
        "id": "Ai-ehSlKe6tA",
        "outputId": "5d2de26a-4024-4902-c8e3-31e43052fc7c"
      },
      "execution_count": null,
      "outputs": [
        {
          "output_type": "execute_result",
          "data": {
            "text/plain": [
              "<matplotlib.axes._subplots.AxesSubplot at 0x7f96910f31d0>"
            ]
          },
          "metadata": {},
          "execution_count": 97
        },
        {
          "output_type": "display_data",
          "data": {
            "text/plain": [
              "<Figure size 432x288 with 1 Axes>"
            ],
            "image/png": "[encoded data removed]"
          },
          "metadata": {
            "needs_background": "light"
          }
        }
      ]
    },
    {
      "cell_type": "code",
      "source": [
        "st.shapiro(X)"
      ],
      "metadata": {
        "colab": {
          "base_uri": "https://localhost:8080/"
        },
        "id": "T9pt2LcUe7hb",
        "outputId": "67d4415f-f588-4481-f6ce-d5e332f7caeb"
      },
      "execution_count": null,
      "outputs": [
        {
          "output_type": "execute_result",
          "data": {
            "text/plain": [
              "ShapiroResult(statistic=0.9857742786407471, pvalue=0.8307797908782959)"
            ]
          },
          "metadata": {},
          "execution_count": 98
        }
      ]
    },
    {
      "cell_type": "code",
      "source": [
        "st.kurtosistest(X)"
      ],
      "metadata": {
        "colab": {
          "base_uri": "https://localhost:8080/"
        },
        "id": "Zy0jfwmFfjTc",
        "outputId": "34b39dd5-3f6c-4091-c4ad-a0f4a5411582"
      },
      "execution_count": null,
      "outputs": [
        {
          "output_type": "execute_result",
          "data": {
            "text/plain": [
              "KurtosistestResult(statistic=-0.5075355340776625, pvalue=0.6117791103360184)"
            ]
          },
          "metadata": {},
          "execution_count": 102
        }
      ]
    },
    {
      "cell_type": "code",
      "source": [
        "st.skewtest(X)"
      ],
      "metadata": {
        "colab": {
          "base_uri": "https://localhost:8080/"
        },
        "id": "uBOoG-32f3pO",
        "outputId": "cabd2f8c-d8dd-42b7-e9b6-c7f281ee015a"
      },
      "execution_count": null,
      "outputs": [
        {
          "output_type": "execute_result",
          "data": {
            "text/plain": [
              "SkewtestResult(statistic=0.015614284926718175, pvalue=0.9875421093489123)"
            ]
          },
          "metadata": {},
          "execution_count": 105
        }
      ]
    },
    {
      "cell_type": "code",
      "source": [],
      "metadata": {
        "id": "_4KrkHwigBZJ"
      },
      "execution_count": null,
      "outputs": []
    },
    {
      "cell_type": "markdown",
      "source": [
        "Значит нормальная выборка. Оценим параметры."
      ],
      "metadata": {
        "id": "XQ1JvgBagJGu"
      }
    },
    {
      "cell_type": "code",
      "source": [
        "print(f'Среднее = {np.mean(X)}\\nДисперсия = {np.var(X)}')"
      ],
      "metadata": {
        "colab": {
          "base_uri": "https://localhost:8080/"
        },
        "id": "LGbCJ_j7gK0g",
        "outputId": "c9183928-fcf6-4fd5-b52e-9f022c13ec15"
      },
      "execution_count": null,
      "outputs": [
        {
          "output_type": "stream",
          "name": "stdout",
          "text": [
            "Среднее = 4.802271854849704\n",
            "Дисперсия = 0.23594147810357755\n"
          ]
        }
      ]
    },
    {
      "cell_type": "code",
      "source": [],
      "metadata": {
        "id": "pZEXCfq1go4G"
      },
      "execution_count": null,
      "outputs": []
    },
    {
      "cell_type": "markdown",
      "source": [
        "# Задача 3"
      ],
      "metadata": {
        "id": "hPACvk7bh0gm"
      }
    },
    {
      "cell_type": "code",
      "source": [
        "df = pd.read_csv('/content/drive/MyDrive/shoshoni.txt')"
      ],
      "metadata": {
        "id": "zR1wmKwAh25B"
      },
      "execution_count": null,
      "outputs": []
    },
    {
      "cell_type": "code",
      "source": [
        "X = df.Ratio.to_numpy()"
      ],
      "metadata": {
        "id": "ZldSmfmOiBVo"
      },
      "execution_count": null,
      "outputs": []
    },
    {
      "cell_type": "code",
      "source": [
        "gold = (1 + np.sqrt(5)) / 2\n",
        "gold = 1/gold"
      ],
      "metadata": {
        "id": "-IhdWjHliG1y"
      },
      "execution_count": null,
      "outputs": []
    },
    {
      "cell_type": "code",
      "source": [
        "X.mean(), gold"
      ],
      "metadata": {
        "colab": {
          "base_uri": "https://localhost:8080/"
        },
        "id": "i18VQydVjA4o",
        "outputId": "74a67542-8a1c-4e6f-8861-6d87c8c1f5c6"
      },
      "execution_count": null,
      "outputs": [
        {
          "output_type": "execute_result",
          "data": {
            "text/plain": [
              "(0.6605000000000001, 0.6180339887498948)"
            ]
          },
          "metadata": {},
          "execution_count": 8
        }
      ]
    },
    {
      "cell_type": "code",
      "source": [
        "X.var()"
      ],
      "metadata": {
        "id": "qdfyGS3ujCwP",
        "colab": {
          "base_uri": "https://localhost:8080/"
        },
        "outputId": "73d539fd-87a1-4d8a-b894-6dbf82d820bc"
      },
      "execution_count": null,
      "outputs": [
        {
          "output_type": "execute_result",
          "data": {
            "text/plain": [
              "0.008130350000000001"
            ]
          },
          "metadata": {},
          "execution_count": 9
        }
      ]
    },
    {
      "cell_type": "code",
      "source": [
        "sns.kdeplot(X)"
      ],
      "metadata": {
        "colab": {
          "base_uri": "https://localhost:8080/",
          "height": 284
        },
        "id": "P1W-Ywro1Jy9",
        "outputId": "6d335afb-5daf-43bf-c3a1-fcd0a3ad8e2c"
      },
      "execution_count": null,
      "outputs": [
        {
          "output_type": "execute_result",
          "data": {
            "text/plain": [
              "<matplotlib.axes._subplots.AxesSubplot at 0x7fac8477d4c0>"
            ]
          },
          "metadata": {},
          "execution_count": 10
        },
        {
          "output_type": "display_data",
          "data": {
            "text/plain": [
              "<Figure size 432x288 with 1 Axes>"
            ],
            "image/png": "[encoded data removed]"
          },
          "metadata": {
            "needs_background": "light"
          }
        }
      ]
    },
    {
      "cell_type": "code",
      "source": [
        "# check for normal\n",
        "\n",
        "loc, scale = st.norm.fit(X)\n",
        "\n",
        "x = np.arange(min(X), max(X) + 1/50, 1/50)\n",
        "y = st.norm.pdf(x, loc=loc, scale=scale)\n",
        "\n",
        "plt.plot(x, y)\n",
        "plt.hist(X, density=True)\n",
        "sns.kdeplot(X)"
      ],
      "metadata": {
        "colab": {
          "base_uri": "https://localhost:8080/",
          "height": 284
        },
        "id": "PZ4PhvD31MsD",
        "outputId": "6a58c49a-91eb-4275-cd54-7533e356e9a0"
      },
      "execution_count": null,
      "outputs": [
        {
          "output_type": "execute_result",
          "data": {
            "text/plain": [
              "<matplotlib.axes._subplots.AxesSubplot at 0x7fac826d1f40>"
            ]
          },
          "metadata": {},
          "execution_count": 11
        },
        {
          "output_type": "display_data",
          "data": {
            "text/plain": [
              "<Figure size 432x288 with 1 Axes>"
            ],
            "image/png": "[encoded data removed]"
          },
          "metadata": {
            "needs_background": "light"
          }
        }
      ]
    },
    {
      "cell_type": "code",
      "source": [
        "st.kstest(X, lambda x: st.norm.cdf(x, loc=loc, scale=scale))"
      ],
      "metadata": {
        "colab": {
          "base_uri": "https://localhost:8080/"
        },
        "id": "nRIX1U_J3QwP",
        "outputId": "4a14ab46-09b1-457e-c36b-7124a70b6808"
      },
      "execution_count": null,
      "outputs": [
        {
          "output_type": "execute_result",
          "data": {
            "text/plain": [
              "KstestResult(statistic=0.2092603749977089, pvalue=0.3013843061481455)"
            ]
          },
          "metadata": {},
          "execution_count": 12
        }
      ]
    },
    {
      "cell_type": "code",
      "source": [
        "st.kstest(X, lambda x: st.norm.cdf(x, loc=gold, scale=scale))"
      ],
      "metadata": {
        "colab": {
          "base_uri": "https://localhost:8080/"
        },
        "id": "geBvbY_117sZ",
        "outputId": "6e15cdda-53af-4c3d-ca4f-e26e7d24380a"
      },
      "execution_count": null,
      "outputs": [
        {
          "output_type": "execute_result",
          "data": {
            "text/plain": [
              "KstestResult(statistic=0.2750805209401356, pvalue=0.07899677084464274)"
            ]
          },
          "metadata": {},
          "execution_count": 13
        }
      ]
    },
    {
      "cell_type": "code",
      "source": [
        "st.ttest_ind(X, st.norm.rvs(size=len(X), loc=gold, scale=scale))"
      ],
      "metadata": {
        "colab": {
          "base_uri": "https://localhost:8080/"
        },
        "id": "wU72XCCh2RT1",
        "outputId": "4e05f4f1-1cf4-43ba-dd46-4ec0ff44933a"
      },
      "execution_count": null,
      "outputs": [
        {
          "output_type": "execute_result",
          "data": {
            "text/plain": [
              "Ttest_indResult(statistic=2.1608259109141046, pvalue=0.03707773841531438)"
            ]
          },
          "metadata": {},
          "execution_count": 14
        }
      ]
    },
    {
      "cell_type": "code",
      "source": [
        "# check for exponential\n",
        "\n",
        "loc, scale = st.expon.fit(X)\n",
        "\n",
        "x = np.arange(min(X), max(X) + 1/50, 1/50)\n",
        "y = st.expon.pdf(x, loc=loc, scale=scale)\n",
        "\n",
        "plt.plot(x, y)\n",
        "plt.hist(X, density=True)\n",
        "sns.kdeplot(X)"
      ],
      "metadata": {
        "colab": {
          "base_uri": "https://localhost:8080/",
          "height": 284
        },
        "id": "sjLlNOF62sJF",
        "outputId": "34f0d894-9d09-42f5-86ab-cbdc217ddf8f"
      },
      "execution_count": null,
      "outputs": [
        {
          "output_type": "execute_result",
          "data": {
            "text/plain": [
              "<matplotlib.axes._subplots.AxesSubplot at 0x7fac82185e20>"
            ]
          },
          "metadata": {},
          "execution_count": 16
        },
        {
          "output_type": "display_data",
          "data": {
            "text/plain": [
              "<Figure size 432x288 with 1 Axes>"
            ],
            "image/png": "[encoded data removed]"
          },
          "metadata": {
            "needs_background": "light"
          }
        }
      ]
    },
    {
      "cell_type": "code",
      "source": [
        "st.kstest(X, lambda x: st.expon.cdf(x, loc=loc, scale=scale))"
      ],
      "metadata": {
        "colab": {
          "base_uri": "https://localhost:8080/"
        },
        "id": "e6XkuTE23FfL",
        "outputId": "98bc0983-6e48-42f7-dcc5-e23111d30bee"
      },
      "execution_count": null,
      "outputs": [
        {
          "output_type": "execute_result",
          "data": {
            "text/plain": [
              "KstestResult(statistic=0.21014368004777115, pvalue=0.29677167286320794)"
            ]
          },
          "metadata": {},
          "execution_count": 17
        }
      ]
    },
    {
      "cell_type": "code",
      "source": [
        "scale = gold-loc\n",
        "\n",
        "st.kstest(X, lambda x: st.expon.cdf(x, loc=loc, scale=scale))"
      ],
      "metadata": {
        "colab": {
          "base_uri": "https://localhost:8080/"
        },
        "id": "wUOWK5do3poY",
        "outputId": "f282d6da-ff6d-4c1e-9df3-bab0cd2739f0"
      },
      "execution_count": null,
      "outputs": [
        {
          "output_type": "execute_result",
          "data": {
            "text/plain": [
              "KstestResult(statistic=0.37196704047893403, pvalue=0.005428558127351768)"
            ]
          },
          "metadata": {},
          "execution_count": 18
        }
      ]
    },
    {
      "cell_type": "code",
      "source": [],
      "metadata": {
        "id": "IIlXqmLnYOdU"
      },
      "execution_count": null,
      "outputs": []
    },
    {
      "cell_type": "code",
      "source": [
        "st.ttest_ind(X, st.expon.rvs(size=len(X), loc=loc, scale=scale))"
      ],
      "metadata": {
        "colab": {
          "base_uri": "https://localhost:8080/"
        },
        "id": "usCfrxSm4zq4",
        "outputId": "3f34a143-ae2c-4f80-b859-fded796ac851"
      },
      "execution_count": null,
      "outputs": [
        {
          "output_type": "execute_result",
          "data": {
            "text/plain": [
              "Ttest_indResult(statistic=2.212695327417708, pvalue=0.03300057634149233)"
            ]
          },
          "metadata": {},
          "execution_count": 19
        }
      ]
    },
    {
      "cell_type": "code",
      "source": [
        "# check for lognorm\n",
        "\n",
        "X = np.log(X)\n",
        "\n",
        "loc, scale = st.norm.fit(X)\n",
        "\n",
        "x = np.arange(min(X), max(X) + 1/50, 1/50)\n",
        "y = st.norm.pdf(x, loc=loc, scale=scale)\n",
        "\n",
        "plt.plot(x, y)\n",
        "plt.hist(X, density=True)\n",
        "sns.kdeplot(X)"
      ],
      "metadata": {
        "colab": {
          "base_uri": "https://localhost:8080/",
          "height": 288
        },
        "id": "CkeCuGYr44hC",
        "outputId": "2d7da1cf-03ae-4f4e-d7df-a27986164605"
      },
      "execution_count": null,
      "outputs": [
        {
          "output_type": "execute_result",
          "data": {
            "text/plain": [
              "<matplotlib.axes._subplots.AxesSubplot at 0x7fac82115eb0>"
            ]
          },
          "metadata": {},
          "execution_count": 20
        },
        {
          "output_type": "display_data",
          "data": {
            "text/plain": [
              "<Figure size 432x288 with 1 Axes>"
            ],
            "image/png": "[encoded data removed]"
          },
          "metadata": {
            "needs_background": "light"
          }
        }
      ]
    },
    {
      "cell_type": "code",
      "source": [
        "st.kstest(X, lambda x: st.norm.cdf(x, loc=loc, scale=scale))"
      ],
      "metadata": {
        "colab": {
          "base_uri": "https://localhost:8080/"
        },
        "id": "QBlcLYqp5Zyf",
        "outputId": "a9718fe6-0c0d-48aa-e266-af672d3b54e9"
      },
      "execution_count": null,
      "outputs": [
        {
          "output_type": "execute_result",
          "data": {
            "text/plain": [
              "KstestResult(statistic=0.17669326444872102, pvalue=0.5046155526841778)"
            ]
          },
          "metadata": {},
          "execution_count": 21
        }
      ]
    },
    {
      "cell_type": "code",
      "source": [
        "st.kstest(X, lambda x: st.norm.cdf(x, loc=gold, scale=scale))"
      ],
      "metadata": {
        "colab": {
          "base_uri": "https://localhost:8080/"
        },
        "id": "hWRMUexF5uDx",
        "outputId": "d90acb40-88fb-49a9-db70-0fe7048ba588"
      },
      "execution_count": null,
      "outputs": [
        {
          "output_type": "execute_result",
          "data": {
            "text/plain": [
              "KstestResult(statistic=0.9999999785657144, pvalue=8.379348358939494e-154)"
            ]
          },
          "metadata": {},
          "execution_count": 22
        }
      ]
    },
    {
      "cell_type": "code",
      "source": [
        "st.ttest_ind(X, st.norm.rvs(size=len(X), loc=gold, scale=scale))"
      ],
      "metadata": {
        "colab": {
          "base_uri": "https://localhost:8080/"
        },
        "id": "FbitR9qM5xFf",
        "outputId": "20d73b0f-61b9-40ab-b04e-741aab9d35c3"
      },
      "execution_count": null,
      "outputs": [
        {
          "output_type": "execute_result",
          "data": {
            "text/plain": [
              "Ttest_indResult(statistic=-26.787272260000243, pvalue=2.809467841195679e-26)"
            ]
          },
          "metadata": {},
          "execution_count": 23
        }
      ]
    },
    {
      "cell_type": "code",
      "source": [],
      "metadata": {
        "id": "nC0kcJnD5z_V"
      },
      "execution_count": null,
      "outputs": []
    }
  ]
}